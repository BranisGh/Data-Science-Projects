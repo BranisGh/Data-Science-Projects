{
 "cells": [
  {
   "cell_type": "code",
   "execution_count": null,
   "metadata": {},
   "outputs": [],
   "source": []
  },
  {
   "cell_type": "code",
   "execution_count": null,
   "metadata": {},
   "outputs": [],
   "source": []
  },
  {
   "cell_type": "code",
   "execution_count": null,
   "metadata": {},
   "outputs": [],
   "source": []
  },
  {
   "attachments": {},
   "cell_type": "markdown",
   "metadata": {},
   "source": [
    "## Import the required libraries"
   ]
  },
  {
   "cell_type": "code",
   "execution_count": null,
   "metadata": {},
   "outputs": [],
   "source": [
    "import pandas as pd\n",
    "import numpy as np \n",
    "import seaborn as sns\n",
    "import matplotlib.pyplot as plt\n",
    "from pathlib import Path \n",
    "import os\n",
    "import tarfile\n",
    "from urllib import request\n",
    "import sys\n",
    "import urllib.request as request\n",
    "import tarfile\n",
    "import random\n",
    "from tqdm import tqdm\n",
    "\n",
    "%matplotlib inline\n",
    "sns.set_style(\"darkgrid\") \n",
    "sns.set_context(\"notebook\")"
   ]
  },
  {
   "cell_type": "code",
   "execution_count": null,
   "metadata": {},
   "outputs": [],
   "source": [
    "FILE = Path('__file__').resolve()\n",
    "ROOT = FILE.parents[0]  # DATA-SCiENCE-PROJECTS root directory\n",
    "if ROOT.as_posix() not in sys.path:\n",
    "    sys.path.append(ROOT.as_posix())  # add ROOT to PATH\n",
    "ROOT = ROOT.relative_to(Path.cwd())"
   ]
  },
  {
   "attachments": {},
   "cell_type": "markdown",
   "metadata": {},
   "source": [
    "## Get the Data\n",
    "### Download the Data"
   ]
  },
  {
   "cell_type": "code",
   "execution_count": null,
   "metadata": {},
   "outputs": [],
   "source": [
    "TGZ_FILE_NAME = \"housing.tgz\"\n",
    "FULL_PATH_DATASETS  = \"https://raw.githubusercontent.com/ageron/handson-ml2/master/datasets\"\n",
    "SAVE_PATH = ROOT / \"datasets\"\n",
    "HOUSING_URL = FULL_PATH_DATASETS + \"/housing/\" + TGZ_FILE_NAME\n",
    "\n",
    "def fetch_housing_data(housing_url=HOUSING_URL, save_path=SAVE_PATH, tgz_file_name=TGZ_FILE_NAME, rm_tgz_file=True):\n",
    "    save_path =  Path(save_path)\n",
    "    save_path.mkdir(parents=True, exist_ok=True)\n",
    "    tgz_path = save_path / tgz_file_name\n",
    "    request.urlretrieve(str(housing_url), tgz_path)\n",
    "    # Open the .tgz file\n",
    "    with tarfile.open(tgz_path, \"r:gz\") as tar:\n",
    "        # Extract all contents of the .tgz file\n",
    "        tar.extractall(path=save_path)\n",
    "        print(\"Extracted contents of\", tgz_path)\n",
    "    # Optionally, you can remove the .tgz file\n",
    "    if rm_tgz_file and tgz_path.exists():\n",
    "        tgz_path.unlink()\n",
    "        print(\"Remove contents of\", tgz_path)\n",
    "    "
   ]
  },
  {
   "cell_type": "code",
   "execution_count": null,
   "metadata": {},
   "outputs": [],
   "source": []
  }
 ],
 "metadata": {
  "language_info": {
   "name": "python"
  },
  "orig_nbformat": 4
 },
 "nbformat": 4,
 "nbformat_minor": 2
}
